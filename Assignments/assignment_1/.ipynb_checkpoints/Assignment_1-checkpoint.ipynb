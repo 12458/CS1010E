{
 "cells": [
  {
   "cell_type": "code",
   "execution_count": 2,
   "id": "1f354fed-56b2-458c-9d6d-adaf689ca487",
   "metadata": {},
   "outputs": [],
   "source": [
    "from math import *\n",
    "from turtle import *"
   ]
  },
  {
   "cell_type": "code",
   "execution_count": 1,
   "id": "1778ff65-b6a9-400f-a036-deca156d905a",
   "metadata": {},
   "outputs": [],
   "source": [
    "def rootAbsDiff(a,b,c):\n",
    "    # Quadratic formula\n",
    "    # x = (-b (+/-) sqrt(b^2-4ac)) / 2a\n",
    "    # Calculate the discriminant\n",
    "    discriminant = b**2 - 4*a*c\n",
    "    \n",
    "    # Calculate the two roots\n",
    "    root1 = (-b + sqrt(discriminant)) / (2*a)\n",
    "    root2 = (-b - sqrt(discriminant)) / (2*a)\n",
    "    \n",
    "    # Calculate and return the absolute difference between the roots\n",
    "    return abs(root1 - root2)\n"
   ]
  },
  {
   "cell_type": "code",
   "execution_count": 5,
   "id": "4cc8726e-f41c-43a8-af74-f6f7a587d778",
   "metadata": {},
   "outputs": [],
   "source": [
    "from math import tan, pi\n",
    "\n",
    "def areaPoly(n, d):\n",
    "    # Calculate the perimeter\n",
    "    perimeter = n * d\n",
    "    \n",
    "    # Calculate the apothem (convert degrees to radians for tan function)\n",
    "    apothem = d / (2 * tan(pi / n))\n",
    "    \n",
    "    # Calculate and return the area\n",
    "    return (perimeter * apothem) / 2\n",
    "\n",
    "def polySide(n, area):\n",
    "    # We need to solve the equation: area = (n * d^2) / (4 * tan(pi/n))\n",
    "    # Rearranging to isolate d:\n",
    "    # d = sqrt((4 * area * tan(pi/n)) / n)\n",
    "    \n",
    "    d = ((4 * area * tan(pi / n)) / n) ** 0.5\n",
    "    \n",
    "    return d"
   ]
  },
  {
   "cell_type": "code",
   "execution_count": 3,
   "id": "a0f8e449-8f70-45d0-9d85-539131b349a0",
   "metadata": {},
   "outputs": [],
   "source": [
    "def draw_house(height, breadth, roof_base):\n",
    "    # draw a house of certain height, and certain breadth\n",
    "    # and certain roof base, as governed by the respective\n",
    "    # parameters.\n",
    "    roof_vertical_height = sqrt(roof_base**2 - (roof_base/2)**2)\n",
    "    roof_overhang = (roof_base - breadth)/2\n",
    "    pd()\n",
    "    fd(breadth)\n",
    "    right(90)\n",
    "    bk(height)\n",
    "    left(90)\n",
    "    fd(roof_overhang)\n",
    "    left(120)\n",
    "    fd(roof_base)\n",
    "    left(120)\n",
    "    fd(roof_base)\n",
    "    left(120)\n",
    "    fd(roof_overhang)\n",
    "    left(90)\n",
    "    bk(height)\n",
    "    left(90)\n",
    "    pu()\n",
    "    "
   ]
  },
  {
   "cell_type": "code",
   "execution_count": 4,
   "id": "5920577a-0e65-4a29-b035-be057bceb7e7",
   "metadata": {},
   "outputs": [],
   "source": [
    "draw_house(100,150,200)"
   ]
  }
 ],
 "metadata": {
  "kernelspec": {
   "display_name": "Python 3 (ipykernel)",
   "language": "python",
   "name": "python3"
  },
  "language_info": {
   "codemirror_mode": {
    "name": "ipython",
    "version": 3
   },
   "file_extension": ".py",
   "mimetype": "text/x-python",
   "name": "python",
   "nbconvert_exporter": "python",
   "pygments_lexer": "ipython3",
   "version": "3.12.3"
  }
 },
 "nbformat": 4,
 "nbformat_minor": 5
}
